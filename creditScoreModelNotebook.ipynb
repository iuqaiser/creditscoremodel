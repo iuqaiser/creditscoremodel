{
 "cells": [
  {
   "cell_type": "code",
   "execution_count": 2,
   "id": "5428368f-3b4b-477e-837f-0be068a2c752",
   "metadata": {},
   "outputs": [],
   "source": [
    "#credit score model notebook"
   ]
  },
  {
   "cell_type": "code",
   "execution_count": 2,
   "id": "80084e21-7796-4dd5-ba98-a8689ae53929",
   "metadata": {},
   "outputs": [],
   "source": [
    "import pandas as pd\n",
    "import numpy as np\n",
    "import plotly.express as px\n",
    "import plotly.graph_objects as go\n",
    "import plotly.io as pio"
   ]
  },
  {
   "cell_type": "code",
   "execution_count": 4,
   "id": "ae31445e-e574-4577-8981-e3a58996c294",
   "metadata": {},
   "outputs": [
    {
     "name": "stdout",
     "output_type": "stream",
     "text": [
      "   Age  Gender  Income            Education Marital Status  \\\n",
      "0   25  Female   50000    Bachelor's Degree         Single   \n",
      "1   30    Male  100000      Master's Degree        Married   \n",
      "2   35  Female   75000            Doctorate        Married   \n",
      "3   40    Male  125000  High School Diploma         Single   \n",
      "4   45  Female  100000    Bachelor's Degree        Married   \n",
      "\n",
      "   Number of Children Home Ownership Credit Score  \n",
      "0                   0         Rented         High  \n",
      "1                   2          Owned         High  \n",
      "2                   1          Owned         High  \n",
      "3                   0          Owned         High  \n",
      "4                   3          Owned         High  \n"
     ]
    }
   ],
   "source": [
    "pio.templates.default = \"plotly_white\"\n",
    "data = pd.read_csv(\"C:/Users/imanq/Documents/Programs/GitHub/creditscoremodel/dataset/Credit Score Classification Dataset.csv\")\n",
    "print(data.head())"
   ]
  },
  {
   "cell_type": "code",
   "execution_count": 5,
   "id": "5d889c98-fd39-481f-a1fc-5bbf3e4614bc",
   "metadata": {},
   "outputs": [
    {
     "name": "stdout",
     "output_type": "stream",
     "text": [
      "<class 'pandas.core.frame.DataFrame'>\n",
      "RangeIndex: 164 entries, 0 to 163\n",
      "Data columns (total 8 columns):\n",
      " #   Column              Non-Null Count  Dtype \n",
      "---  ------              --------------  ----- \n",
      " 0   Age                 164 non-null    int64 \n",
      " 1   Gender              164 non-null    object\n",
      " 2   Income              164 non-null    int64 \n",
      " 3   Education           164 non-null    object\n",
      " 4   Marital Status      164 non-null    object\n",
      " 5   Number of Children  164 non-null    int64 \n",
      " 6   Home Ownership      164 non-null    object\n",
      " 7   Credit Score        164 non-null    object\n",
      "dtypes: int64(3), object(5)\n",
      "memory usage: 10.4+ KB\n",
      "None\n"
     ]
    }
   ],
   "source": [
    "print(data.info())"
   ]
  },
  {
   "cell_type": "code",
   "execution_count": null,
   "id": "b41e9d7e-3faa-44df-b8ff-84ed0adae277",
   "metadata": {},
   "outputs": [],
   "source": []
  },
  {
   "cell_type": "code",
   "execution_count": null,
   "id": "860f8876-6209-494f-9779-649dfa33642c",
   "metadata": {},
   "outputs": [],
   "source": []
  },
  {
   "cell_type": "code",
   "execution_count": null,
   "id": "12c5fde4-dea3-47f8-8109-59eaff1edfaf",
   "metadata": {},
   "outputs": [],
   "source": []
  },
  {
   "cell_type": "code",
   "execution_count": null,
   "id": "72d3a93e-3320-45b6-b659-36e286db3b90",
   "metadata": {},
   "outputs": [],
   "source": []
  }
 ],
 "metadata": {
  "kernelspec": {
   "display_name": "Python 3 (ipykernel)",
   "language": "python",
   "name": "python3"
  },
  "language_info": {
   "codemirror_mode": {
    "name": "ipython",
    "version": 3
   },
   "file_extension": ".py",
   "mimetype": "text/x-python",
   "name": "python",
   "nbconvert_exporter": "python",
   "pygments_lexer": "ipython3",
   "version": "3.11.1"
  }
 },
 "nbformat": 4,
 "nbformat_minor": 5
}
